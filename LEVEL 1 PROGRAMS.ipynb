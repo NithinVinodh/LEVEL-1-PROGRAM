{
 "cells": [
  {
   "cell_type": "code",
   "execution_count": 2,
   "id": "638b2b38",
   "metadata": {},
   "outputs": [
    {
     "name": "stdout",
     "output_type": "stream",
     "text": [
      "hello world\n"
     ]
    }
   ],
   "source": [
    "#Display \"Hello World\" in your computer.\n",
    "print(\"hello world\")"
   ]
  },
  {
   "cell_type": "code",
   "execution_count": 3,
   "id": "d6684189",
   "metadata": {},
   "outputs": [
    {
     "name": "stdout",
     "output_type": "stream",
     "text": [
      "Enter the input for a :10\n",
      "Enter the input for b :20\n",
      "The addition of a and b is : 30\n"
     ]
    }
   ],
   "source": [
    "#Get the input from the user and perform addition of two numbers\n",
    "a=int(input(\"Enter the input for a :\"))\n",
    "b=int(input(\"Enter the input for b :\"))\n",
    "c=a+b\n",
    "print(\"The addition of a and b is :\",c)"
   ]
  },
  {
   "cell_type": "code",
   "execution_count": 5,
   "id": "3bd15cbe",
   "metadata": {},
   "outputs": [
    {
     "name": "stdout",
     "output_type": "stream",
     "text": [
      "Enter the value for a :10\n",
      "Enter the value for b :20\n",
      "The swapped value of a is : 20\n",
      "The swapped value of b is : 10\n"
     ]
    }
   ],
   "source": [
    "#Swap two variables without temp variable\n",
    "a=int(input(\"Enter the value for a :\"))\n",
    "b=int(input(\"Enter the value for b :\"))\n",
    "a=a+b\n",
    "b=a-b\n",
    "a=a-b\n",
    "print(\"The swapped value of a is :\", a)\n",
    "print(\"The swapped value of b is :\", b)"
   ]
  },
  {
   "cell_type": "code",
   "execution_count": 1,
   "id": "bd93b54a",
   "metadata": {},
   "outputs": [
    {
     "name": "stdout",
     "output_type": "stream",
     "text": [
      "Enter the kilometers :10\n",
      "the converted kilometers is 6.21371\n"
     ]
    }
   ],
   "source": [
    "#convert the entered kilometers (conversion factor=0.621371)\n",
    "a=int(input(\"Enter the kilometers :\"))\n",
    "k=a*0.621371\n",
    "print(\"The converted kilometers is\",k)"
   ]
  },
  {
   "cell_type": "code",
   "execution_count": 2,
   "id": "51f60a8e",
   "metadata": {},
   "outputs": [
    {
     "name": "stdout",
     "output_type": "stream",
     "text": [
      "Enter the number :0\n",
      "Zero\n"
     ]
    }
   ],
   "source": [
    "#check whether the given number is positive , negative or 0\n",
    "a=int(input(\"Enter the number :\"))\n",
    "if a<0:\n",
    "    print(\"Negative Number\")\n",
    "elif a>0:\n",
    "    print(\"Positive Number\")\n",
    "else:\n",
    "    print(\"Zero\")"
   ]
  },
  {
   "cell_type": "code",
   "execution_count": 3,
   "id": "5c7e5a6c",
   "metadata": {},
   "outputs": [
    {
     "name": "stdout",
     "output_type": "stream",
     "text": [
      "Enter a Year :2020\n",
      "Leap year\n"
     ]
    }
   ],
   "source": [
    "#verify that the given year is leap year\n",
    "year=int(input(\"Enter a Year :\"))\n",
    "if(year%400==0) & (year%100==0):\n",
    "    print(\"Leap year\")\n",
    "elif(year%4==0) & (year%100!=0) :\n",
    "    print(\"Leap year\")\n",
    "else:\n",
    "      print(\"Not a Leap year\")"
   ]
  },
  {
   "cell_type": "code",
   "execution_count": 4,
   "id": "e95de661",
   "metadata": {},
   "outputs": [
    {
     "name": "stdout",
     "output_type": "stream",
     "text": [
      "Enter the starting number :5\n",
      "Enter the ending number :20\n",
      "5\n",
      "7\n",
      "11\n",
      "13\n",
      "17\n",
      "19\n"
     ]
    }
   ],
   "source": [
    "#display the prime numbers within the given interval\n",
    "a=int(input(\"Enter the starting number :\"))\n",
    "b=int(input(\"Enter the ending number :\"))\n",
    "for i in range (a,b):\n",
    "    c=0\n",
    "    for j in range (1,i):\n",
    "        if i%j==0:\n",
    "            c+=1\n",
    "    if(c==1):\n",
    "            print(i)"
   ]
  },
  {
   "cell_type": "code",
   "execution_count": 6,
   "id": "162cbeac",
   "metadata": {},
   "outputs": [
    {
     "name": "stdout",
     "output_type": "stream",
     "text": [
      "Enter a number : 5\n",
      "Fibonacci series : 0 11 2 3 "
     ]
    }
   ],
   "source": [
    "#display the fibonacci sequence upto the nth term\n",
    "a=int(input(\"Enter a number\"))\n",
    "n1=0\n",
    "n2=1\n",
    "print(\"Fibonacci series :\",n1,n2,end=\"\")\n",
    "for i in range(2, a):\n",
    "    n3=n1+n2\n",
    "    n1=n2\n",
    "    n2=n3\n",
    "    print(n3,end=\" \")"
   ]
  },
  {
   "cell_type": "code",
   "execution_count": 9,
   "id": "e7a28262",
   "metadata": {},
   "outputs": [
    {
     "name": "stdout",
     "output_type": "stream",
     "text": [
      "Enter a 3 digit number :153\n",
      "The is an armstrong number \n"
     ]
    }
   ],
   "source": [
    "#check if the number is an Armstrong number or not\n",
    "a=int(input(\"Enter a 3 digit number :\"))\n",
    "b=a//100\n",
    "c=a%100\n",
    "d=c//10\n",
    "e=c%10\n",
    "num=(b**c)+(d**3)+(e**3)\n",
    "if num==a:\n",
    "    print(\"It is an armstrong number \")\n",
    "else:\n",
    "    print(\"Not an armstrong number\")\n",
    "    "
   ]
  },
  {
   "cell_type": "code",
   "execution_count": 10,
   "id": "b2aaf62c",
   "metadata": {},
   "outputs": [
    {
     "name": "stdout",
     "output_type": "stream",
     "text": [
      "Enter a number :5\n",
      "15\n"
     ]
    }
   ],
   "source": [
    "#find the sum of natural numbers upto the nth term \n",
    "a=int(input(\"Enter a number :\"))\n",
    "s=0\n",
    "if(a<=0):\n",
    "    print(\"It is not a natural number \")\n",
    "else:\n",
    "    for i in range(0,a+1):\n",
    "        s=s+i\n",
    "print(s)"
   ]
  },
  {
   "cell_type": "code",
   "execution_count": 11,
   "id": "5153519c",
   "metadata": {},
   "outputs": [
    {
     "name": "stdout",
     "output_type": "stream",
     "text": [
      "Enter the number of lines :5\n",
      "*\n",
      "**\n",
      "***\n",
      "****\n",
      "*****\n"
     ]
    }
   ],
   "source": [
    "#write the function called show_stars(rows).If rows are 5 it should print the following\n",
    "*\n",
    "**\n",
    "***\n",
    "****\n",
    "*****\n",
    "row=int(input(\"Enter the number of lines :\"))\n",
    "for i in range(1,row+1):\n",
    "    print(\"*\"*i)"
   ]
  },
  {
   "cell_type": "code",
   "execution_count": 12,
   "id": "13c7d504",
   "metadata": {},
   "outputs": [
    {
     "name": "stdout",
     "output_type": "stream",
     "text": [
      "Enter any string :helloworld\n",
      "Enter how much to be removed :5\n",
      "world\n"
     ]
    }
   ],
   "source": [
    "#write the program to remove the character from the string starting from zero upto n and return a new string  \n",
    "s=input(\"Enter any string :\")\n",
    "n=int(input(\"Enter how much to be removed :\"))\n",
    "b=len(s)\n",
    "print(s[n:])"
   ]
  },
  {
   "cell_type": "code",
   "execution_count": 13,
   "id": "6607ef2a",
   "metadata": {},
   "outputs": [
    {
     "name": "stdout",
     "output_type": "stream",
     "text": [
      "15\n",
      "20\n",
      "35\n",
      "40\n",
      "55\n"
     ]
    }
   ],
   "source": [
    "#iterate the given list of numbers and print only those numbers which are divisible by 5\n",
    "l=[2,6,9,12,15,20,35,40,55]\n",
    "for i in l:\n",
    "    if i%5==0:\n",
    "        print(i)"
   ]
  },
  {
   "cell_type": "code",
   "execution_count": 17,
   "id": "901f6007",
   "metadata": {},
   "outputs": [
    {
     "name": "stdout",
     "output_type": "stream",
     "text": [
      "Enter the string :hi,hi\n",
      "Number of substring occurences : 2\n"
     ]
    }
   ],
   "source": [
    "#write a program to find how many times substring Hi appears in the given string\n",
    "str=input(\"Enter the string :\")\n",
    "str2=\"hi\"\n",
    "count=str.count(str2)\n",
    "print(\"Number of substring occurences :\",count)"
   ]
  },
  {
   "cell_type": "code",
   "execution_count": 44,
   "id": "942c71be",
   "metadata": {},
   "outputs": [
    {
     "name": "stdout",
     "output_type": "stream",
     "text": [
      "Enter the number of lines :5\n",
      "1\n",
      "22\n",
      "333\n",
      "4444\n",
      "55555\n"
     ]
    }
   ],
   "source": [
    "#print the following pattern\n",
    "row=int(input(\"Enter the number of lines :\"))\n",
    "for i in range(1,row+1):\n",
    "    print(\"%s\" %i*i)"
   ]
  },
  {
   "cell_type": "code",
   "execution_count": 34,
   "id": "087dde08",
   "metadata": {},
   "outputs": [
    {
     "name": "stdout",
     "output_type": "stream",
     "text": [
      "palindrome or not\n",
      "Enter a String : malayalam\n",
      "It is a palindrome \n"
     ]
    }
   ],
   "source": [
    "# write a program to check if the given number is a palindrome\n",
    "p=input(\"Enter a String : \")\n",
    "if p==p[::-1]:\n",
    "    print(\"It is a palindrome \")\n",
    "else:\n",
    "     print(\"It is not a palindrome\")"
   ]
  },
  {
   "cell_type": "code",
   "execution_count": 26,
   "id": "ce075b07",
   "metadata": {},
   "outputs": [
    {
     "name": "stdout",
     "output_type": "stream",
     "text": [
      "Before interchanging :  [1, 2, 3, 4, 5]\n",
      "After Interchanging :  [5, 2, 3, 4, 1]\n"
     ]
    }
   ],
   "source": [
    "# python program to interchange first and last elements in a list\n",
    "list=[1,2,3,4,5]\n",
    "print(\"Before interchanging : \",list)\n",
    "list[0],list[len(list)-1]=list[len(list)-1],list[0]\n",
    "print(\"After Interchanging : \",list)"
   ]
  },
  {
   "cell_type": "code",
   "execution_count": 33,
   "id": "9a73ae4b",
   "metadata": {},
   "outputs": [
    {
     "name": "stdout",
     "output_type": "stream",
     "text": [
      "Before Swapping : [1, 2, 3, 4, 5]\n",
      "Index one :1\n",
      "Index two :3\n",
      "After Swapping : [1, 4, 3, 2, 5]\n"
     ]
    }
   ],
   "source": [
    "# python program to swap two elements in a list\n",
    "l=[1,2,3,4,5]\n",
    "print(\"Before Swapping :\",l)\n",
    "x,y=int(input(\"Index one :\")),int(input(\"Index two :\"))\n",
    "l[x],l[y]=l[y],l[x]\n",
    "print(\"After Swapping :\",l)"
   ]
  },
  {
   "cell_type": "code",
   "execution_count": 35,
   "id": "3e2a5c8e",
   "metadata": {},
   "outputs": [
    {
     "name": "stdout",
     "output_type": "stream",
     "text": [
      "Length of list:  5\n",
      "Length of list:  5\n"
     ]
    }
   ],
   "source": [
    "#python ways to find length of the list\n",
    "l=[1,2,3,4,5]\n",
    "print(\"Length of list: \",len(l))\n",
    "c=0\n",
    "for i in l:\n",
    "    c+=1\n",
    "print(\"Length of list: \",c)"
   ]
  },
  {
   "cell_type": "code",
   "execution_count": 36,
   "id": "cc4935c2",
   "metadata": {},
   "outputs": [
    {
     "name": "stdout",
     "output_type": "stream",
     "text": [
      "enter value 1: 20\n",
      "enter value 2: 30\n",
      "Maximum value is=  30\n"
     ]
    }
   ],
   "source": [
    "# Maximum of two numbers in python\n",
    "a,b=int(input(\"enter value 1: \")), int(input(\"enter value 2: \"))\n",
    "if a>b:\n",
    "    print(\"Maximum value is= \",a)\n",
    "else:\n",
    "    print(\"Maximum value is= \",b)"
   ]
  },
  {
   "cell_type": "code",
   "execution_count": 37,
   "id": "29f75e92",
   "metadata": {},
   "outputs": [
    {
     "name": "stdout",
     "output_type": "stream",
     "text": [
      "enter value 1: 10\n",
      "enter value 2: 20\n",
      "Minimum value is=  10\n"
     ]
    }
   ],
   "source": [
    "# Minimum of two numbers in python\n",
    "a,b=int(input(\"enter value 1: \")), int(input(\"enter value 2: \"))\n",
    "if a>b:\n",
    "    print(\"Minimum value is= \",b)\n",
    "else:\n",
    "    print(\"Minimum value is= \",a)"
   ]
  },
  {
   "cell_type": "code",
   "execution_count": 39,
   "id": "f844dd69",
   "metadata": {},
   "outputs": [
    {
     "name": "stdout",
     "output_type": "stream",
     "text": [
      "Enter sting value: malayalam\n",
      "pallindrome checking:\n",
      "\n",
      "It is a pallindrome\n",
      "symmentrical checking:\n",
      "\n",
      "It is not symmentrical\n"
     ]
    }
   ],
   "source": [
    "#python program to check whether the given string is symmetrical or palindrome\n",
    "val=input(\"Enter sting value: \")\n",
    "print(\"pallindrome checking:\\n\")\n",
    "if val==val[::-1]:\n",
    "    print(\"It is a pallindrome\")\n",
    "else:\n",
    "    print(\"It is not a pallindrome\")\n",
    "print(\"symmentrical checking:\\n\")\n",
    "half=len(val)//2\n",
    "if val[half:]==val[:half]:\n",
    "    print(\"It is symmentrical\")\n",
    "else:\n",
    "    print(\"It is not symmentrical\")"
   ]
  },
  {
   "cell_type": "code",
   "execution_count": 45,
   "id": "7ec2f985",
   "metadata": {},
   "outputs": [
    {
     "name": "stdout",
     "output_type": "stream",
     "text": [
      "Enter sting value: python\n",
      "nohtyp\n"
     ]
    }
   ],
   "source": [
    "#reverse words in a given string in python\n",
    "val=input(\"Enter sting value: \")\n",
    "print(val[::-1])"
   ]
  },
  {
   "cell_type": "code",
   "execution_count": 48,
   "id": "dbbcef07",
   "metadata": {},
   "outputs": [
    {
     "name": "stdout",
     "output_type": "stream",
     "text": [
      "Enter the string :python\n",
      "Enter index  value: 2\n",
      "pyhon\n"
     ]
    }
   ],
   "source": [
    "# ways to remove the ith character from string in python \n",
    "s=input(\"Enter the string :\")\n",
    "i=int(input(\"Enter index  value: \"))\n",
    "s1=s[:i]+s[i+1:]\n",
    "print(s1)"
   ]
  },
  {
   "cell_type": "code",
   "execution_count": 49,
   "id": "0e0f1dc4",
   "metadata": {},
   "outputs": [
    {
     "name": "stdout",
     "output_type": "stream",
     "text": [
      "Enter the string :python\n",
      "Length of string:  6\n",
      "Length of string:  6\n"
     ]
    }
   ],
   "source": [
    "# find length of a string in python\n",
    "s=input(\"Enter the string :\")\n",
    "print(\"Length of string: \",len(s))\n",
    "c=0\n",
    "for i in s:\n",
    "    c+=1\n",
    "print(\"Length of string: \",c)"
   ]
  },
  {
   "cell_type": "code",
   "execution_count": 68,
   "id": "984553d7",
   "metadata": {},
   "outputs": [
    {
     "name": "stdout",
     "output_type": "stream",
     "text": [
      "This\n",
      "is\n",
      "python\n",
      "language\n"
     ]
    }
   ],
   "source": [
    "# To print even length words in string\n",
    "n=\"This is a python language\"\n",
    "s=n.split(\" \")\n",
    "for i in s:\n",
    "      if len(i)%2==0:\n",
    "                print(i)\n",
    " \n"
   ]
  },
  {
   "cell_type": "code",
   "execution_count": 62,
   "id": "e6f64100",
   "metadata": {},
   "outputs": [
    {
     "name": "stdout",
     "output_type": "stream",
     "text": [
      "5\n"
     ]
    }
   ],
   "source": [
    "#Python program to find the size of a tuple\n",
    "t=(1,2,3,4,5)\n",
    "print(len(t))"
   ]
  },
  {
   "cell_type": "code",
   "execution_count": 57,
   "id": "ba0cea21",
   "metadata": {},
   "outputs": [
    {
     "name": "stdout",
     "output_type": "stream",
     "text": [
      "Maximum value=  5\n",
      "Minimum value=  1\n"
     ]
    }
   ],
   "source": [
    "#Python-Maximum and minimum k elements in a tuple\n",
    "t=(1,2,3,4,5)\n",
    "print(\"Maximum value= \",max(t))\n",
    "print(\"Minimum value= \",min(t))"
   ]
  },
  {
   "cell_type": "code",
   "execution_count": 58,
   "id": "d8d0f63e",
   "metadata": {},
   "outputs": [
    {
     "name": "stdout",
     "output_type": "stream",
     "text": [
      "Sum of elements in the tuple: 15\n"
     ]
    }
   ],
   "source": [
    "#Python sum of tuple elements\n",
    "t=(1,2,3,4,5)\n",
    "print(\"Sum of elements in the tuple:\",sum(t))"
   ]
  },
  {
   "cell_type": "code",
   "execution_count": 59,
   "id": "328b939e",
   "metadata": {},
   "outputs": [
    {
     "name": "stdout",
     "output_type": "stream",
     "text": [
      "Row sum: 6\n",
      "Row sum: 15\n",
      "Row sum: 24\n"
     ]
    }
   ],
   "source": [
    "#Python-row wise element addition in tuple matrix\n",
    "t = ((1, 2, 3), (4, 5, 6), (7, 8, 9))\n",
    "for row in t:\n",
    "    s=sum(row)\n",
    "    print(\"Row sum:\",s)"
   ]
  },
  {
   "cell_type": "code",
   "execution_count": 1,
   "id": "cc691d25",
   "metadata": {},
   "outputs": [
    {
     "name": "stdout",
     "output_type": "stream",
     "text": [
      "[(1, 1), (2, 8), (3, 27), (4, 64), (5, 125)]\n"
     ]
    }
   ],
   "source": [
    "#Create a list of tuples from given list having number and its cube in each tuple\n",
    "l = [1,2,3,4,5]\n",
    "p = [(i, pow(i, 3)) for i in l]\n",
    "print(p)"
   ]
  },
  {
   "cell_type": "code",
   "execution_count": 2,
   "id": "56938d12",
   "metadata": {},
   "outputs": [
    {
     "name": "stdout",
     "output_type": "stream",
     "text": [
      "{'raj': 46, 'raja': 27, 'raju': 45, 'ram': 24, 'ravi': 36}\n"
     ]
    }
   ],
   "source": [
    "#python sort python dictionaries by key or value \n",
    "Dict = {'ram': 24, 'raj': 46,'ravi': 36, 'raja': 27, 'raju': 45}\n",
    "K= list(Dict.keys())\n",
    "K.sort()\n",
    "sdict={i: Dict[i] for i in K}\n",
    "print(sdict)"
   ]
  },
  {
   "cell_type": "code",
   "execution_count": 3,
   "id": "ce91b085",
   "metadata": {},
   "outputs": [
    {
     "name": "stdout",
     "output_type": "stream",
     "text": [
      "{'x-y+z': [12, 15]}\n"
     ]
    }
   ],
   "source": [
    "#python dictionary with keys having multiple inputs\n",
    "d= {}\n",
    "a,b,c= 5, 3, 10\n",
    "p,q,r= 12, 6, 9\n",
    "d[\"x-y+z\"] = [a-b+c,p-q+r]\n",
    "print(d)"
   ]
  },
  {
   "cell_type": "code",
   "execution_count": 4,
   "id": "2737ce04",
   "metadata": {},
   "outputs": [
    {
     "name": "stdout",
     "output_type": "stream",
     "text": [
      "Dictionary:  {'x': 455, 'y': 223, 'z': 300, 'p': 908}\n",
      "sum:  1886\n"
     ]
    }
   ],
   "source": [
    "#python program to find the sum of all items in a dictionary\n",
    "d={'x':455,'y':223,'z':300,'p':908 }\n",
    "print(\"Dictionary: \", d)\n",
    "print(\"sum: \",sum(d.values()))"
   ]
  },
  {
   "cell_type": "code",
   "execution_count": 5,
   "id": "3acb870d",
   "metadata": {},
   "outputs": [
    {
     "name": "stdout",
     "output_type": "stream",
     "text": [
      "Size of dic1:  3\n"
     ]
    }
   ],
   "source": [
    "#python program to find the size of a Dictionary\n",
    "dic1 = {\"A\": 1,\"B\": 2,\"C\": 3}\n",
    "print(\"Size of dic1: \",len(dic1))"
   ]
  },
  {
   "cell_type": "code",
   "execution_count": 6,
   "id": "b65dff65",
   "metadata": {},
   "outputs": [
    {
     "name": "stdout",
     "output_type": "stream",
     "text": [
      "Size of set:  5\n"
     ]
    }
   ],
   "source": [
    "#Find the size of a set in python\n",
    "s={1,2,3,4,5}\n",
    "print(\"Size of set: \",len(s))"
   ]
  },
  {
   "cell_type": "code",
   "execution_count": 8,
   "id": "ea0ae2ef",
   "metadata": {},
   "outputs": [
    {
     "name": "stdout",
     "output_type": "stream",
     "text": [
      "e\n",
      "_\n",
      "o\n",
      "l\n",
      "W\n",
      "d\n",
      "H\n",
      "r\n"
     ]
    }
   ],
   "source": [
    "#Iterate over a set in python\n",
    "s=set(\"Hello_World\")\n",
    "for i in s:\n",
    "    print(i)"
   ]
  },
  {
   "cell_type": "code",
   "execution_count": 9,
   "id": "a638f4a7",
   "metadata": {},
   "outputs": [
    {
     "name": "stdout",
     "output_type": "stream",
     "text": [
      "Maximum of the set:  5\n",
      "Minimum of the set:  1\n"
     ]
    }
   ],
   "source": [
    "#python -maximum and minimum in a set\n",
    "s={1,2,3,4,5}\n",
    "print(\"Maximum of the set: \",max(s))\n",
    "print(\"Minimum of the set: \",min(s))"
   ]
  },
  {
   "cell_type": "code",
   "execution_count": 10,
   "id": "e492b0d9",
   "metadata": {},
   "outputs": [
    {
     "name": "stdout",
     "output_type": "stream",
     "text": [
      "Initial list:  {1, 2, 3, 4, 5}\n",
      "Final list:  {1, 2, 3, 4}\n"
     ]
    }
   ],
   "source": [
    "#python-remove items from set\n",
    "s={1,2,3,4,5}\n",
    "print(\"Initial list: \",s)\n",
    "s.remove(5)\n",
    "print(\"Final list: \",s)"
   ]
  },
  {
   "cell_type": "code",
   "execution_count": 11,
   "id": "ed16de1a",
   "metadata": {},
   "outputs": [
    {
     "name": "stdout",
     "output_type": "stream",
     "text": [
      "Element common is: 5\n"
     ]
    }
   ],
   "source": [
    "#python-check if two lists have atleast one elements common\n",
    "s={1,2,3,4,5}\n",
    "p={5,6,7,8,9}\n",
    "for i in s:\n",
    "    for j in p:\n",
    "        if i==j:\n",
    "            print(\"Element common is:\", i)"
   ]
  },
  {
   "cell_type": "code",
   "execution_count": 12,
   "id": "9ed7ade4",
   "metadata": {},
   "outputs": [
    {
     "name": "stdout",
     "output_type": "stream",
     "text": [
      "My matrix is:\n",
      "[[1, 2, 3], [1, 2, 3], [1, 2, 3]]\n"
     ]
    }
   ],
   "source": [
    "#python-assigning subsequent rows to matrix first row element\n",
    "matrix = [[1, 2, 3],\n",
    "          [4, 5, 6],\n",
    "          [7, 8, 9]]\n",
    "print(\"My matrix is:\")\n",
    "# Assign subsequent rows to the first row elements\n",
    "for i in range(1, len(matrix)):\n",
    "    matrix[i] = matrix[0]\n",
    "\n",
    "print(matrix)"
   ]
  },
  {
   "cell_type": "code",
   "execution_count": 25,
   "id": "36c58f78",
   "metadata": {},
   "outputs": [
    {
     "name": "stdout",
     "output_type": "stream",
     "text": [
      "Printing elements of first matrix\n",
      "1 2 \n",
      "3 4 \n",
      "Printing elements of second matrix\n",
      "4 5 \n",
      "6 7 \n",
      "Subtraction of two matrix\n",
      "-3 -3 \n",
      "-3 -3 \n"
     ]
    }
   ],
   "source": [
    "#adding and sutracting matrices in python\n",
    "matrix1 = [[1, 2], [3, 4]]\n",
    "matrix2 = [[4, 5], [6, 7]]\n",
    " \n",
    "# Printing elements of matrix1\n",
    "print(\"Printing elements of first matrix\")\n",
    "for row in matrix1:\n",
    "    for element in row:\n",
    "        print(element, end=\" \")\n",
    "    print()\n",
    " \n",
    "# Printing elements of matrix2\n",
    "print(\"Printing elements of second matrix\")\n",
    "for row in matrix2:\n",
    "    for element in row:\n",
    "        print(element, end=\" \")\n",
    "    print()\n",
    "    \n",
    " \n",
    "# Subtracting two matrices\n",
    "result = [[0, 0], [0, 0]]\n",
    "for i in range(len(matrix1)):\n",
    "    for j in range(len(matrix1[0])):\n",
    "        result[i][j] = matrix1[i][j] - matrix2[i][j]\n",
    " \n",
    "# Printing the result\n",
    "print(\"Subtraction of two matrix\")\n",
    "for row in result:\n",
    "    for element in row:\n",
    "        print(element, end=\" \")\n",
    "    print()"
   ]
  },
  {
   "cell_type": "code",
   "execution_count": 14,
   "id": "3cff1fb8",
   "metadata": {},
   "outputs": [
    {
     "name": "stdout",
     "output_type": "stream",
     "text": [
      "[1, 2, 3, 4, 5]\n",
      "[1, 2, 3, 4, 5]\n",
      "[None, None, None, None, 5]\n"
     ]
    }
   ],
   "source": [
    "#python-group similar elements into matrix\n",
    "elements = [1, 2, 3, 2, 1, 3, 4, 5, 4, 5, 5]\n",
    "\n",
    "# Count the occurrences of each element\n",
    "element_counts = {}\n",
    "for element in elements:\n",
    "    if element in element_counts:\n",
    "        element_counts[element] += 1\n",
    "    else:\n",
    "        element_counts[element] = 1\n",
    "\n",
    "# Determine the dimensions of the matrix\n",
    "num_rows = max(element_counts.values())\n",
    "num_cols = len(element_counts)\n",
    "\n",
    "# Create the matrix and fill it with the elements\n",
    "matrix = [[None] * num_cols for _ in range(num_rows)]\n",
    "for col, element in enumerate(element_counts):\n",
    "    count = element_counts[element]\n",
    "    for row in range(count):\n",
    "        matrix[row][col] = element\n",
    "\n",
    "# Print the resulting matrix\n",
    "for row in matrix:\n",
    "    print(row)"
   ]
  },
  {
   "cell_type": "code",
   "execution_count": 15,
   "id": "0b2e3119",
   "metadata": {},
   "outputs": [
    {
     "name": "stdout",
     "output_type": "stream",
     "text": [
      "Row-wise sums:\n",
      "12\n",
      "15\n",
      "18\n"
     ]
    }
   ],
   "source": [
    "#python -rowwise element addition in tuple matrix\n",
    "matrix = ((1, 2, 3),\n",
    "          (4, 5, 6),\n",
    "          (7, 8, 9))\n",
    "\n",
    "# Perform row-wise element addition\n",
    "row_sums = [sum(row) for row in zip(*matrix)]\n",
    "\n",
    "# Print the row-wise sums\n",
    "print(\"Row-wise sums:\")\n",
    "for sum_value in row_sums:\n",
    "    print(sum_value)"
   ]
  },
  {
   "cell_type": "code",
   "execution_count": 16,
   "id": "0260e86f",
   "metadata": {},
   "outputs": [
    {
     "name": "stdout",
     "output_type": "stream",
     "text": [
      "[1, 0, 1, 0]\n",
      "[0, 1, 0, 1]\n",
      "[1, 0, 1, 0]\n",
      "[0, 1, 0, 1]\n"
     ]
    }
   ],
   "source": [
    "#create an n x n square matrix where all the submatrix has the sum of opposite corner elements as even.\n",
    "def create_even_submatrix(n):\n",
    "    matrix = [[0] * n for _ in range(n)]\n",
    "\n",
    "    for i in range(n):\n",
    "        for j in range(n):\n",
    "            if (i + j) % 2 == 0:\n",
    "                matrix[i][j] = 1\n",
    "\n",
    "    return matrix\n",
    "\n",
    "\n",
    "# Test the function\n",
    "n = 4\n",
    "result = create_even_submatrix(n)\n",
    "\n",
    "# Print the resulting matrix\n",
    "for row in result:\n",
    "    print(row)\n"
   ]
  },
  {
   "cell_type": "code",
   "execution_count": 26,
   "id": "52bd7bfe",
   "metadata": {},
   "outputs": [
    {
     "name": "stdout",
     "output_type": "stream",
     "text": [
      "['nithin', 'goku', 'dhinesh', 'sarvesh']\n"
     ]
    }
   ],
   "source": [
    "#how to get list of paramters name from a function in Python\n",
    "import inspect\n",
    "\n",
    "def my_function(nithin,goku,dhinesh,sarvesh):\n",
    "    pass\n",
    "\n",
    "# Get the parameter names of the function\n",
    "parameters = inspect.signature(my_function).parameters\n",
    "parameter_names = list(parameters.keys())\n",
    "\n",
    "# Print the parameter names\n",
    "print(parameter_names)"
   ]
  },
  {
   "cell_type": "code",
   "execution_count": 18,
   "id": "83cd1506",
   "metadata": {},
   "outputs": [
    {
     "name": "stdout",
     "output_type": "stream",
     "text": [
      "John 30 New York\n"
     ]
    }
   ],
   "source": [
    "#how to print multiple arguments in python\n",
    "name = \"John\"\n",
    "age = 30\n",
    "city = \"New York\"\n",
    "\n",
    "print(name, age, city)"
   ]
  },
  {
   "cell_type": "code",
   "execution_count": 19,
   "id": "83c6f0ef",
   "metadata": {},
   "outputs": [
    {
     "name": "stdout",
     "output_type": "stream",
     "text": [
      "Enter the base: 5\n",
      "Enter the power: 5\n",
      "5 raised to the power of 5 is: 3125\n"
     ]
    }
   ],
   "source": [
    "#python program to find the power of a number using recursion\n",
    "def power(base, exponent):\n",
    "    if exponent == 0:\n",
    "        return 1\n",
    "    elif exponent < 0:\n",
    "        return 1 / power(base, -exponent)\n",
    "    else:\n",
    "        return base * power(base, exponent - 1)\n",
    "\n",
    "# Example usage\n",
    "base =int(input(\"Enter the base: \"))\n",
    "exponent =int(input(\"Enter the power: \"))\n",
    "result = power(base, exponent)\n",
    "print(f\"{base} raised to the power of {exponent} is: {result}\")"
   ]
  },
  {
   "cell_type": "code",
   "execution_count": 2,
   "id": "0465e009",
   "metadata": {},
   "outputs": [
    {
     "name": "stdout",
     "output_type": "stream",
     "text": [
      "[('aravind', 'a'), ('dhinesh', 'b'), ('gokulan', 'c'), ('nithin', 'd'), ('sarvesh', 's')]\n"
     ]
    }
   ],
   "source": [
    "#sorting objects of user defined class in python\n",
    "class grade:\n",
    "    def __init__(self, a, b):\n",
    "        self.a = a\n",
    "        self.b = b\n",
    "  \n",
    "    def __repr__(self):\n",
    "        return str((self.a, self.b))\n",
    "  \n",
    "\n",
    "g= [grade(\"aravind\", 'a'),\n",
    "       grade(\"dhinesh\", 'b'),\n",
    "       grade(\"gokulan\", 'c'),\n",
    "       grade(\"nithin\", 'd'),\n",
    "       grade(\"sarvesh\", 's')]\n",
    "  \n",
    "\n",
    "print(sorted(g, key=lambda x: x.b))"
   ]
  },
  {
   "cell_type": "code",
   "execution_count": 1,
   "id": "82a2ad9d",
   "metadata": {},
   "outputs": [
    {
     "name": "stdout",
     "output_type": "stream",
     "text": [
      "name: Sarvesh\n",
      "age: 18\n",
      "city: Pondicherry\n"
     ]
    }
   ],
   "source": [
    "#function that accept variable length key value pair as arguments\n",
    "def print_kwargs(**kwargs):\n",
    "    for key, value in kwargs.items():\n",
    "        print(f\"{key}: {value}\")\n",
    "\n",
    "print_kwargs(name=\"Sarvesh\", age=18, city=\"Pondicherry\")"
   ]
  },
  {
   "cell_type": "code",
   "execution_count": null,
   "id": "01a54fa4",
   "metadata": {},
   "outputs": [],
   "source": []
  }
 ],
 "metadata": {
  "kernelspec": {
   "display_name": "Python 3 (ipykernel)",
   "language": "python",
   "name": "python3"
  },
  "language_info": {
   "codemirror_mode": {
    "name": "ipython",
    "version": 3
   },
   "file_extension": ".py",
   "mimetype": "text/x-python",
   "name": "python",
   "nbconvert_exporter": "python",
   "pygments_lexer": "ipython3",
   "version": "3.10.9"
  }
 },
 "nbformat": 4,
 "nbformat_minor": 5
}
