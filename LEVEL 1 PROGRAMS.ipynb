{
 "cells": [
  {
   "cell_type": "code",
   "execution_count": 2,
   "id": "638b2b38",
   "metadata": {},
   "outputs": [
    {
     "name": "stdout",
     "output_type": "stream",
     "text": [
      "hello world\n"
     ]
    }
   ],
   "source": [
    "#Display \"Hello World\" in your computer.\n",
    "print(\"hello world\")"
   ]
  },
  {
   "cell_type": "code",
   "execution_count": 3,
   "id": "d6684189",
   "metadata": {},
   "outputs": [
    {
     "name": "stdout",
     "output_type": "stream",
     "text": [
      "Enter the input for a :10\n",
      "Enter the input for b :20\n",
      "The addition of a and b is : 30\n"
     ]
    }
   ],
   "source": [
    "#Get the input from the user and perform addition of two numbers\n",
    "a=int(input(\"Enter the input for a :\"))\n",
    "b=int(input(\"Enter the input for b :\"))\n",
    "c=a+b\n",
    "print(\"The addition of a and b is :\",c)"
   ]
  },
  {
   "cell_type": "code",
   "execution_count": 5,
   "id": "3bd15cbe",
   "metadata": {},
   "outputs": [
    {
     "name": "stdout",
     "output_type": "stream",
     "text": [
      "Enter the value for a :10\n",
      "Enter the value for b :20\n",
      "The swapped value of a is : 20\n",
      "The swapped value of b is : 10\n"
     ]
    }
   ],
   "source": [
    "#Swap two variables without temp variable\n",
    "a=int(input(\"Enter the value for a :\"))\n",
    "b=int(input(\"Enter the value for b :\"))\n",
    "a=a+b\n",
    "b=a-b\n",
    "a=a-b\n",
    "print(\"The swapped value of a is :\", a)\n",
    "print(\"The swapped value of b is :\", b)"
   ]
  },
  {
   "cell_type": "code",
   "execution_count": 1,
   "id": "bd93b54a",
   "metadata": {},
   "outputs": [
    {
     "name": "stdout",
     "output_type": "stream",
     "text": [
      "Enter the kilometers :10\n",
      "the converted kilometers is 6.21371\n"
     ]
    }
   ],
   "source": [
    "#convert the entered kilometers (conversion factor=0.621371)\n",
    "a=int(input(\"Enter the kilometers :\"))\n",
    "k=a*0.621371\n",
    "print(\"The converted kilometers is\",k)"
   ]
  },
  {
   "cell_type": "code",
   "execution_count": 2,
   "id": "b79fd916",
   "metadata": {},
   "outputs": [
    {
     "name": "stdout",
     "output_type": "stream",
     "text": [
      "Enter the number :0\n",
      "Zero\n"
     ]
    }
   ],
   "source": [
    "#check whether the given number is positive , negative or 0\n",
    "a=int(input(\"Enter the number :\"))\n",
    "if a<0:\n",
    "    print(\"Negative Number\")\n",
    "elif a>0:\n",
    "    print(\"Positive Number\")\n",
    "else:\n",
    "    print(\"Zero\")"
   ]
  },
  {
   "cell_type": "code",
   "execution_count": 3,
   "id": "33b3af7c",
   "metadata": {},
   "outputs": [
    {
     "name": "stdout",
     "output_type": "stream",
     "text": [
      "Enter a Year :2020\n",
      "Leap year\n"
     ]
    }
   ],
   "source": [
    "#verify that the given year is leap year\n",
    "year=int(input(\"Enter a Year :\"))\n",
    "if(year%400==0) & (year%100==0):\n",
    "    print(\"Leap year\")\n",
    "elif(year%4==0) & (year%100!=0) :\n",
    "    print(\"Leap year\")\n",
    "else:\n",
    "      print(\"Not a Leap year\")"
   ]
  },
  {
   "cell_type": "code",
   "execution_count": 4,
   "id": "09c9cc50",
   "metadata": {},
   "outputs": [
    {
     "name": "stdout",
     "output_type": "stream",
     "text": [
      "Enter the starting number :5\n",
      "Enter the ending number :20\n",
      "5\n",
      "7\n",
      "11\n",
      "13\n",
      "17\n",
      "19\n"
     ]
    }
   ],
   "source": [
    "#display the prime numbers within the given interval\n",
    "a=int(input(\"Enter the starting number :\"))\n",
    "b=int(input(\"Enter the ending number :\"))\n",
    "for i in range (a,b):\n",
    "    c=0\n",
    "    for j in range (1,i):\n",
    "        if i%j==0:\n",
    "            c+=1\n",
    "    if(c==1):\n",
    "            print(i)"
   ]
  },
  {
   "cell_type": "code",
   "execution_count": 6,
   "id": "dd4cdc78",
   "metadata": {},
   "outputs": [
    {
     "name": "stdout",
     "output_type": "stream",
     "text": [
      "Enter a number : 5\n",
      "Fibonacci series : 0 11 2 3 "
     ]
    }
   ],
   "source": [
    "#display the fibonacci sequence upto the nth term\n",
    "a=int(input(\"Enter a number\"))\n",
    "n1=0\n",
    "n2=1\n",
    "print(\"Fibonacci series :\",n1,n2,end=\"\")\n",
    "for i in range(2, a):\n",
    "    n3=n1+n2\n",
    "    n1=n2\n",
    "    n2=n3\n",
    "    print(n3,end=\" \")"
   ]
  },
  {
   "cell_type": "code",
   "execution_count": 9,
   "id": "5431c191",
   "metadata": {},
   "outputs": [
    {
     "name": "stdout",
     "output_type": "stream",
     "text": [
      "Enter a 3 digit number :153\n",
      "The is an armstrong number \n"
     ]
    }
   ],
   "source": [
    "#check if the number is an Armstrong number or not\n",
    "a=int(input(\"Enter a 3 digit number :\"))\n",
    "b=a//100\n",
    "c=a%100\n",
    "d=c//10\n",
    "e=c%10\n",
    "num=(b**c)+(d**3)+(e**3)\n",
    "if num==a:\n",
    "    print(\"It is an armstrong number \")\n",
    "else:\n",
    "    print(\"Not an armstrong number\")\n",
    "    "
   ]
  },
  {
   "cell_type": "code",
   "execution_count": 10,
   "id": "e5cf57d2",
   "metadata": {},
   "outputs": [
    {
     "name": "stdout",
     "output_type": "stream",
     "text": [
      "Enter a number :5\n",
      "15\n"
     ]
    }
   ],
   "source": [
    "#find the sum of natural numbers upto the nth term \n",
    "a=int(input(\"Enter a number :\"))\n",
    "s=0\n",
    "if(a<=0):\n",
    "    print(\"It is not a natural number \")\n",
    "else:\n",
    "    for i in range(0,a+1):\n",
    "        s=s+i\n",
    "print(s)"
   ]
  },
  {
   "cell_type": "code",
   "execution_count": 11,
   "id": "0d3767df",
   "metadata": {},
   "outputs": [
    {
     "name": "stdout",
     "output_type": "stream",
     "text": [
      "Enter the number of lines :5\n",
      "*\n",
      "**\n",
      "***\n",
      "****\n",
      "*****\n"
     ]
    }
   ],
   "source": [
    "#write the function called show_stars(rows).If rows are 5 it should print the following\n",
    "*\n",
    "**\n",
    "***\n",
    "****\n",
    "*****\n",
    "row=int(input(\"Enter the number of lines :\"))\n",
    "for i in range(1,row+1):\n",
    "    print(\"*\"*i)"
   ]
  },
  {
   "cell_type": "code",
   "execution_count": 12,
   "id": "19a6217e",
   "metadata": {},
   "outputs": [
    {
     "name": "stdout",
     "output_type": "stream",
     "text": [
      "Enter any string :helloworld\n",
      "Enter how much to be removed :5\n",
      "world\n"
     ]
    }
   ],
   "source": [
    "#write the program to remove the character from the string starting from zero upto n and return a new string  \n",
    "s=input(\"Enter any string :\")\n",
    "n=int(input(\"Enter how much to be removed :\"))\n",
    "b=len(s)\n",
    "print(s[n:])"
   ]
  },
  {
   "cell_type": "code",
   "execution_count": 13,
   "id": "0f00d5ce",
   "metadata": {},
   "outputs": [
    {
     "name": "stdout",
     "output_type": "stream",
     "text": [
      "15\n",
      "20\n",
      "35\n",
      "40\n",
      "55\n"
     ]
    }
   ],
   "source": [
    "#iterate the given list of numbers and print only those numbers which are divisible by 5\n",
    "l=[2,6,9,12,15,20,35,40,55]\n",
    "for i in l:\n",
    "    if i%5==0:\n",
    "        print(i)"
   ]
  },
  {
   "cell_type": "code",
   "execution_count": 17,
   "id": "94315a52",
   "metadata": {},
   "outputs": [
    {
     "name": "stdout",
     "output_type": "stream",
     "text": [
      "Enter the string :hi,hi\n",
      "Number of substring occurences : 2\n"
     ]
    }
   ],
   "source": [
    "#write a program to find how many times substring Hi appears in the given string\n",
    "str=input(\"Enter the string :\")\n",
    "str2=\"hi\"\n",
    "count=str.count(str2)\n",
    "print(\"Number of substring occurences :\",count)"
   ]
  },
  {
   "cell_type": "code",
   "execution_count": 44,
   "id": "28dc3b18",
   "metadata": {},
   "outputs": [
    {
     "name": "stdout",
     "output_type": "stream",
     "text": [
      "Enter the number of lines :5\n",
      "1\n",
      "22\n",
      "333\n",
      "4444\n",
      "55555\n"
     ]
    }
   ],
   "source": [
    "#print the following pattern\n",
    "row=int(input(\"Enter the number of lines :\"))\n",
    "for i in range(1,row+1):\n",
    "    print(\"%s\" %i*i)"
   ]
  },
  {
   "cell_type": "code",
   "execution_count": 34,
   "id": "3c2ad7b6",
   "metadata": {},
   "outputs": [
    {
     "name": "stdout",
     "output_type": "stream",
     "text": [
      "palindrome or not\n",
      "Enter a String : malayalam\n",
      "It is a palindrome \n"
     ]
    }
   ],
   "source": [
    "# write a program to check if the given number is a palindrome\n",
    "print(\"palindrome or not\")\n",
    "p=input(\"Enter a String : \")\n",
    "if p==p[::-1]:\n",
    "    print(\"It is a palindrome \")\n",
    "else:\n",
    "     print(\"It is not a palindrome\")"
   ]
  },
  {
   "cell_type": "code",
   "execution_count": 26,
   "id": "1d33c28d",
   "metadata": {},
   "outputs": [
    {
     "name": "stdout",
     "output_type": "stream",
     "text": [
      "Before interchanging :  [1, 2, 3, 4, 5]\n",
      "After Interchanging :  [5, 2, 3, 4, 1]\n"
     ]
    }
   ],
   "source": [
    "# python program to interchange first and last elements in a list\n",
    "list=[1,2,3,4,5]\n",
    "print(\"Before interchanging : \",list)\n",
    "list[0],list[len(list)-1]=list[len(list)-1],list[0]\n",
    "print(\"After Interchanging : \",list)"
   ]
  },
  {
   "cell_type": "code",
   "execution_count": 33,
   "id": "400ae314",
   "metadata": {},
   "outputs": [
    {
     "name": "stdout",
     "output_type": "stream",
     "text": [
      "Before Swapping : [1, 2, 3, 4, 5]\n",
      "Index one :1\n",
      "Index two :3\n",
      "After Swapping : [1, 4, 3, 2, 5]\n"
     ]
    }
   ],
   "source": [
    "# python program to swap two elements in a list\n",
    "l=[1,2,3,4,5]\n",
    "print(\"Before Swapping :\",l)\n",
    "x,y=int(input(\"Index one :\")),int(input(\"Index two :\"))\n",
    "l[x],l[y]=l[y],l[x]\n",
    "print(\"After Swapping :\",l)"
   ]
  },
  {
   "cell_type": "code",
   "execution_count": 35,
   "id": "3ec85bdf",
   "metadata": {},
   "outputs": [
    {
     "name": "stdout",
     "output_type": "stream",
     "text": [
      "Length of list:  5\n",
      "Length of list:  5\n"
     ]
    }
   ],
   "source": [
    "#python ways to find length of the list\n",
    "l=[1,2,3,4,5]\n",
    "print(\"Length of list: \",len(l))\n",
    "c=0\n",
    "for i in l:\n",
    "    c+=1\n",
    "print(\"Length of list: \",c)"
   ]
  },
  {
   "cell_type": "code",
   "execution_count": 36,
   "id": "6f876308",
   "metadata": {},
   "outputs": [
    {
     "name": "stdout",
     "output_type": "stream",
     "text": [
      "enter value 1: 20\n",
      "enter value 2: 30\n",
      "Maximum value is=  30\n"
     ]
    }
   ],
   "source": [
    "# Maximum of two numbers in python\n",
    "a,b=int(input(\"enter value 1: \")), int(input(\"enter value 2: \"))\n",
    "if a>b:\n",
    "    print(\"Maximum value is= \",a)\n",
    "else:\n",
    "    print(\"Maximum value is= \",b)"
   ]
  },
  {
   "cell_type": "code",
   "execution_count": 37,
   "id": "b001854a",
   "metadata": {},
   "outputs": [
    {
     "name": "stdout",
     "output_type": "stream",
     "text": [
      "enter value 1: 10\n",
      "enter value 2: 20\n",
      "Minimum value is=  10\n"
     ]
    }
   ],
   "source": [
    "# Minimum of two numbers in python\n",
    "a,b=int(input(\"enter value 1: \")), int(input(\"enter value 2: \"))\n",
    "if a>b:\n",
    "    print(\"Minimum value is= \",b)\n",
    "else:\n",
    "    print(\"Minimum value is= \",a)"
   ]
  },
  {
   "cell_type": "code",
   "execution_count": 39,
   "id": "1da1722c",
   "metadata": {},
   "outputs": [
    {
     "name": "stdout",
     "output_type": "stream",
     "text": [
      "Enter sting value: malayalam\n",
      "pallindrome checking:\n",
      "\n",
      "It is a pallindrome\n",
      "symmentrical checking:\n",
      "\n",
      "It is not symmentrical\n"
     ]
    }
   ],
   "source": [
    "#python program to check whether the given string is symmetrical or palindrome\n",
    "val=input(\"Enter sting value: \")\n",
    "print(\"pallindrome checking:\\n\")\n",
    "if val==val[::-1]:\n",
    "    print(\"It is a pallindrome\")\n",
    "else:\n",
    "    print(\"It is not a pallindrome\")\n",
    "print(\"symmentrical checking:\\n\")\n",
    "half=len(val)//2\n",
    "if val[half:]==val[:half]:\n",
    "    print(\"It is symmentrical\")\n",
    "else:\n",
    "    print(\"It is not symmentrical\")"
   ]
  },
  {
   "cell_type": "code",
   "execution_count": 45,
   "id": "df8a729d",
   "metadata": {},
   "outputs": [
    {
     "name": "stdout",
     "output_type": "stream",
     "text": [
      "Enter sting value: python\n",
      "nohtyp\n"
     ]
    }
   ],
   "source": [
    "#reverse words in a given string in python\n",
    "val=input(\"Enter sting value: \")\n",
    "print(val[::-1])"
   ]
  },
  {
   "cell_type": "code",
   "execution_count": 48,
   "id": "8fb84738",
   "metadata": {},
   "outputs": [
    {
     "name": "stdout",
     "output_type": "stream",
     "text": [
      "Enter the string :python\n",
      "Enter index  value: 2\n",
      "pyhon\n"
     ]
    }
   ],
   "source": [
    "# ways to remove the ith character from string in python \n",
    "s=input(\"Enter the string :\")\n",
    "i=int(input(\"Enter index  value: \"))\n",
    "s1=s[:i]+s[i+1:]\n",
    "print(s1)"
   ]
  },
  {
   "cell_type": "code",
   "execution_count": 49,
   "id": "b40b0da0",
   "metadata": {},
   "outputs": [
    {
     "name": "stdout",
     "output_type": "stream",
     "text": [
      "Enter the string :python\n",
      "Length of string:  6\n",
      "Length of string:  6\n"
     ]
    }
   ],
   "source": [
    "# find length of a string in python\n",
    "s=input(\"Enter the string :\")\n",
    "print(\"Length of string: \",len(s))\n",
    "c=0\n",
    "for i in s:\n",
    "    c+=1\n",
    "print(\"Length of string: \",c)"
   ]
  },
  {
   "cell_type": "code",
   "execution_count": 68,
   "id": "a47d3faa",
   "metadata": {},
   "outputs": [
    {
     "name": "stdout",
     "output_type": "stream",
     "text": [
      "This\n",
      "is\n",
      "python\n",
      "language\n"
     ]
    }
   ],
   "source": [
    "# To print even length words in string\n",
    "n=\"This is a python language\"\n",
    "s=n.split(\" \")\n",
    "for i in s:\n",
    "      if len(i)%2==0:\n",
    "                print(i)\n",
    " \n"
   ]
  },
  {
   "cell_type": "code",
   "execution_count": 62,
   "id": "709ab1d1",
   "metadata": {},
   "outputs": [
    {
     "name": "stdout",
     "output_type": "stream",
     "text": [
      "5\n"
     ]
    }
   ],
   "source": [
    "#Python program to find the size of a tuple\n",
    "t=(1,2,3,4,5)\n",
    "print(len(t))"
   ]
  },
  {
   "cell_type": "code",
   "execution_count": 57,
   "id": "f9c47f9a",
   "metadata": {},
   "outputs": [
    {
     "name": "stdout",
     "output_type": "stream",
     "text": [
      "Maximum value=  5\n",
      "Minimum value=  1\n"
     ]
    }
   ],
   "source": [
    "#Python-Maximum and minimum k elements in a tuple\n",
    "t=(1,2,3,4,5)\n",
    "print(\"Maximum value= \",max(t))\n",
    "print(\"Minimum value= \",min(t))"
   ]
  },
  {
   "cell_type": "code",
   "execution_count": 58,
   "id": "e654e9d2",
   "metadata": {},
   "outputs": [
    {
     "name": "stdout",
     "output_type": "stream",
     "text": [
      "Sum of elements in the tuple: 15\n"
     ]
    }
   ],
   "source": [
    "#Python sum of tuple elements\n",
    "t=(1,2,3,4,5)\n",
    "print(\"Sum of elements in the tuple:\",sum(t))"
   ]
  },
  {
   "cell_type": "code",
   "execution_count": 59,
   "id": "b37efef4",
   "metadata": {},
   "outputs": [
    {
     "name": "stdout",
     "output_type": "stream",
     "text": [
      "Row sum: 6\n",
      "Row sum: 15\n",
      "Row sum: 24\n"
     ]
    }
   ],
   "source": [
    "#Python-row wise element addition in tuple matrix\n",
    "t = ((1, 2, 3), (4, 5, 6), (7, 8, 9))\n",
    "for row in t:\n",
    "    s=sum(row)\n",
    "    print(\"Row sum:\",s)"
   ]
  }
 ],
 "metadata": {
  "kernelspec": {
   "display_name": "Python 3 (ipykernel)",
   "language": "python",
   "name": "python3"
  },
  "language_info": {
   "codemirror_mode": {
    "name": "ipython",
    "version": 3
   },
   "file_extension": ".py",
   "mimetype": "text/x-python",
   "name": "python",
   "nbconvert_exporter": "python",
   "pygments_lexer": "ipython3",
   "version": "3.10.9"
  }
 },
 "nbformat": 4,
 "nbformat_minor": 5
}
